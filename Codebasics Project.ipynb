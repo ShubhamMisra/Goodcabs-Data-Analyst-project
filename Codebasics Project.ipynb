{
 "cells": [
  {
   "cell_type": "code",
   "execution_count": 48,
   "id": "98ed07c7-873d-4805-aee7-ba35eee383aa",
   "metadata": {},
   "outputs": [],
   "source": [
    "import pandas as pd\n",
    "import numpy as np\n",
    "import openpyxl"
   ]
  },
  {
   "cell_type": "code",
   "execution_count": 50,
   "id": "154d0e5e-162e-4539-ba42-07f9afc1b70c",
   "metadata": {},
   "outputs": [],
   "source": [
    "import sys\n",
    "sys.path.insert(0, r\"C:\\Users\\Nikhil Mishra\\OneDrive\\Desktop\\Data Source\")"
   ]
  },
  {
   "cell_type": "code",
   "execution_count": 52,
   "id": "bdda1a04-643d-4294-8a0f-754f7a3319ab",
   "metadata": {},
   "outputs": [],
   "source": [
    "#data cleaning"
   ]
  },
  {
   "cell_type": "code",
   "execution_count": 54,
   "id": "7199e052-65f0-4936-8321-a7c63fc8a056",
   "metadata": {},
   "outputs": [],
   "source": [
    "df1= pd.read_excel(r\"C:\\Users\\Nikhil Mishra\\OneDrive\\Desktop\\Data Source\\city_target_passenger_rating.xlsx\")"
   ]
  },
  {
   "cell_type": "code",
   "execution_count": 56,
   "id": "102ae79b-7dab-4cac-bc45-55da43d73e08",
   "metadata": {},
   "outputs": [
    {
     "data": {
      "text/html": [
       "<div>\n",
       "<style scoped>\n",
       "    .dataframe tbody tr th:only-of-type {\n",
       "        vertical-align: middle;\n",
       "    }\n",
       "\n",
       "    .dataframe tbody tr th {\n",
       "        vertical-align: top;\n",
       "    }\n",
       "\n",
       "    .dataframe thead th {\n",
       "        text-align: right;\n",
       "    }\n",
       "</style>\n",
       "<table border=\"1\" class=\"dataframe\">\n",
       "  <thead>\n",
       "    <tr style=\"text-align: right;\">\n",
       "      <th></th>\n",
       "      <th>city_id</th>\n",
       "      <th>target_avg_passenger_rating</th>\n",
       "    </tr>\n",
       "  </thead>\n",
       "  <tbody>\n",
       "    <tr>\n",
       "      <th>0</th>\n",
       "      <td>CH01</td>\n",
       "      <td>8.00</td>\n",
       "    </tr>\n",
       "    <tr>\n",
       "      <th>1</th>\n",
       "      <td>UP01</td>\n",
       "      <td>7.25</td>\n",
       "    </tr>\n",
       "    <tr>\n",
       "      <th>2</th>\n",
       "      <td>AP01</td>\n",
       "      <td>8.50</td>\n",
       "    </tr>\n",
       "    <tr>\n",
       "      <th>3</th>\n",
       "      <td>MP01</td>\n",
       "      <td>8.00</td>\n",
       "    </tr>\n",
       "    <tr>\n",
       "      <th>4</th>\n",
       "      <td>RJ01</td>\n",
       "      <td>8.25</td>\n",
       "    </tr>\n",
       "  </tbody>\n",
       "</table>\n",
       "</div>"
      ],
      "text/plain": [
       "  city_id  target_avg_passenger_rating\n",
       "0    CH01                         8.00\n",
       "1    UP01                         7.25\n",
       "2    AP01                         8.50\n",
       "3    MP01                         8.00\n",
       "4    RJ01                         8.25"
      ]
     },
     "execution_count": 56,
     "metadata": {},
     "output_type": "execute_result"
    }
   ],
   "source": [
    "df1.head()"
   ]
  },
  {
   "cell_type": "code",
   "execution_count": 58,
   "id": "2f631161-85fd-4487-ac85-83ebe3ba33e3",
   "metadata": {},
   "outputs": [],
   "source": [
    "df2 = pd.read_excel(r\"C:\\Users\\Nikhil Mishra\\OneDrive\\Desktop\\Data Source\\dim_city.xlsx\")"
   ]
  },
  {
   "cell_type": "code",
   "execution_count": 60,
   "id": "d9326bd0-4a28-4e76-a2f0-4832c400a527",
   "metadata": {},
   "outputs": [
    {
     "data": {
      "text/html": [
       "<div>\n",
       "<style scoped>\n",
       "    .dataframe tbody tr th:only-of-type {\n",
       "        vertical-align: middle;\n",
       "    }\n",
       "\n",
       "    .dataframe tbody tr th {\n",
       "        vertical-align: top;\n",
       "    }\n",
       "\n",
       "    .dataframe thead th {\n",
       "        text-align: right;\n",
       "    }\n",
       "</style>\n",
       "<table border=\"1\" class=\"dataframe\">\n",
       "  <thead>\n",
       "    <tr style=\"text-align: right;\">\n",
       "      <th></th>\n",
       "      <th>city_id</th>\n",
       "      <th>city_name</th>\n",
       "    </tr>\n",
       "  </thead>\n",
       "  <tbody>\n",
       "    <tr>\n",
       "      <th>0</th>\n",
       "      <td>RJ01</td>\n",
       "      <td>Jaipur</td>\n",
       "    </tr>\n",
       "    <tr>\n",
       "      <th>1</th>\n",
       "      <td>UP01</td>\n",
       "      <td>Lucknow</td>\n",
       "    </tr>\n",
       "    <tr>\n",
       "      <th>2</th>\n",
       "      <td>GJ01</td>\n",
       "      <td>Surat</td>\n",
       "    </tr>\n",
       "    <tr>\n",
       "      <th>3</th>\n",
       "      <td>KL01</td>\n",
       "      <td>Kochi</td>\n",
       "    </tr>\n",
       "    <tr>\n",
       "      <th>4</th>\n",
       "      <td>MP01</td>\n",
       "      <td>Indore</td>\n",
       "    </tr>\n",
       "  </tbody>\n",
       "</table>\n",
       "</div>"
      ],
      "text/plain": [
       "  city_id city_name\n",
       "0    RJ01    Jaipur\n",
       "1    UP01   Lucknow\n",
       "2    GJ01     Surat\n",
       "3    KL01     Kochi\n",
       "4    MP01    Indore"
      ]
     },
     "execution_count": 60,
     "metadata": {},
     "output_type": "execute_result"
    }
   ],
   "source": [
    "df2.head()"
   ]
  },
  {
   "cell_type": "code",
   "execution_count": 62,
   "id": "715cf4c1-0e59-47aa-883d-a7c766e39025",
   "metadata": {},
   "outputs": [],
   "source": [
    "df3 = pd.read_excel(r\"C:\\Users\\Nikhil Mishra\\OneDrive\\Desktop\\Data Source\\dim_date.xlsx\")"
   ]
  },
  {
   "cell_type": "code",
   "execution_count": 64,
   "id": "54bed31f-56dc-4e5c-a564-0bc9234a526c",
   "metadata": {},
   "outputs": [
    {
     "data": {
      "text/html": [
       "<div>\n",
       "<style scoped>\n",
       "    .dataframe tbody tr th:only-of-type {\n",
       "        vertical-align: middle;\n",
       "    }\n",
       "\n",
       "    .dataframe tbody tr th {\n",
       "        vertical-align: top;\n",
       "    }\n",
       "\n",
       "    .dataframe thead th {\n",
       "        text-align: right;\n",
       "    }\n",
       "</style>\n",
       "<table border=\"1\" class=\"dataframe\">\n",
       "  <thead>\n",
       "    <tr style=\"text-align: right;\">\n",
       "      <th></th>\n",
       "      <th>date</th>\n",
       "      <th>start_of_month</th>\n",
       "      <th>month_name</th>\n",
       "      <th>day_type</th>\n",
       "    </tr>\n",
       "  </thead>\n",
       "  <tbody>\n",
       "    <tr>\n",
       "      <th>0</th>\n",
       "      <td>2024-01-01</td>\n",
       "      <td>2024-01-01</td>\n",
       "      <td>January</td>\n",
       "      <td>Weekday</td>\n",
       "    </tr>\n",
       "    <tr>\n",
       "      <th>1</th>\n",
       "      <td>2024-01-02</td>\n",
       "      <td>2024-01-01</td>\n",
       "      <td>January</td>\n",
       "      <td>Weekday</td>\n",
       "    </tr>\n",
       "    <tr>\n",
       "      <th>2</th>\n",
       "      <td>2024-01-03</td>\n",
       "      <td>2024-01-01</td>\n",
       "      <td>January</td>\n",
       "      <td>Weekday</td>\n",
       "    </tr>\n",
       "    <tr>\n",
       "      <th>3</th>\n",
       "      <td>2024-01-04</td>\n",
       "      <td>2024-01-01</td>\n",
       "      <td>January</td>\n",
       "      <td>Weekday</td>\n",
       "    </tr>\n",
       "    <tr>\n",
       "      <th>4</th>\n",
       "      <td>2024-01-05</td>\n",
       "      <td>2024-01-01</td>\n",
       "      <td>January</td>\n",
       "      <td>Weekday</td>\n",
       "    </tr>\n",
       "  </tbody>\n",
       "</table>\n",
       "</div>"
      ],
      "text/plain": [
       "        date start_of_month month_name day_type\n",
       "0 2024-01-01     2024-01-01    January  Weekday\n",
       "1 2024-01-02     2024-01-01    January  Weekday\n",
       "2 2024-01-03     2024-01-01    January  Weekday\n",
       "3 2024-01-04     2024-01-01    January  Weekday\n",
       "4 2024-01-05     2024-01-01    January  Weekday"
      ]
     },
     "execution_count": 64,
     "metadata": {},
     "output_type": "execute_result"
    }
   ],
   "source": [
    "df3.head()"
   ]
  },
  {
   "cell_type": "code",
   "execution_count": 66,
   "id": "92906b1d-09dc-4ba6-8641-5ba5fd0ac860",
   "metadata": {},
   "outputs": [],
   "source": [
    "df4 = pd.read_excel(r\"C:\\Users\\Nikhil Mishra\\OneDrive\\Desktop\\Data Source\\dim_repeat_trip_distribution.xlsx\")"
   ]
  },
  {
   "cell_type": "code",
   "execution_count": 68,
   "id": "5fa97c7c-092c-4e35-91fc-a95e8e2e1c7a",
   "metadata": {},
   "outputs": [
    {
     "data": {
      "text/html": [
       "<div>\n",
       "<style scoped>\n",
       "    .dataframe tbody tr th:only-of-type {\n",
       "        vertical-align: middle;\n",
       "    }\n",
       "\n",
       "    .dataframe tbody tr th {\n",
       "        vertical-align: top;\n",
       "    }\n",
       "\n",
       "    .dataframe thead th {\n",
       "        text-align: right;\n",
       "    }\n",
       "</style>\n",
       "<table border=\"1\" class=\"dataframe\">\n",
       "  <thead>\n",
       "    <tr style=\"text-align: right;\">\n",
       "      <th></th>\n",
       "      <th>month</th>\n",
       "      <th>city_id</th>\n",
       "      <th>trip_count</th>\n",
       "      <th>repeat_passenger_count</th>\n",
       "    </tr>\n",
       "  </thead>\n",
       "  <tbody>\n",
       "    <tr>\n",
       "      <th>0</th>\n",
       "      <td>2024-01-01</td>\n",
       "      <td>AP01</td>\n",
       "      <td>10</td>\n",
       "      <td>7</td>\n",
       "    </tr>\n",
       "    <tr>\n",
       "      <th>1</th>\n",
       "      <td>2024-01-01</td>\n",
       "      <td>AP01</td>\n",
       "      <td>2</td>\n",
       "      <td>352</td>\n",
       "    </tr>\n",
       "    <tr>\n",
       "      <th>2</th>\n",
       "      <td>2024-01-01</td>\n",
       "      <td>AP01</td>\n",
       "      <td>3</td>\n",
       "      <td>158</td>\n",
       "    </tr>\n",
       "    <tr>\n",
       "      <th>3</th>\n",
       "      <td>2024-01-01</td>\n",
       "      <td>AP01</td>\n",
       "      <td>4</td>\n",
       "      <td>53</td>\n",
       "    </tr>\n",
       "    <tr>\n",
       "      <th>4</th>\n",
       "      <td>2024-01-01</td>\n",
       "      <td>AP01</td>\n",
       "      <td>5</td>\n",
       "      <td>38</td>\n",
       "    </tr>\n",
       "  </tbody>\n",
       "</table>\n",
       "</div>"
      ],
      "text/plain": [
       "       month city_id  trip_count  repeat_passenger_count\n",
       "0 2024-01-01    AP01          10                       7\n",
       "1 2024-01-01    AP01           2                     352\n",
       "2 2024-01-01    AP01           3                     158\n",
       "3 2024-01-01    AP01           4                      53\n",
       "4 2024-01-01    AP01           5                      38"
      ]
     },
     "execution_count": 68,
     "metadata": {},
     "output_type": "execute_result"
    }
   ],
   "source": [
    "df4.head()"
   ]
  },
  {
   "cell_type": "code",
   "execution_count": 70,
   "id": "b03d149a-7318-4847-9261-37f37139b607",
   "metadata": {},
   "outputs": [],
   "source": [
    "df5 = pd.read_excel(r\"C:\\Users\\Nikhil Mishra\\OneDrive\\Desktop\\Data Source\\fact_passenger_summary.xlsx\")"
   ]
  },
  {
   "cell_type": "code",
   "execution_count": 72,
   "id": "2aeb624e-528e-4dd5-a9aa-cf58f174a2a4",
   "metadata": {},
   "outputs": [
    {
     "data": {
      "text/html": [
       "<div>\n",
       "<style scoped>\n",
       "    .dataframe tbody tr th:only-of-type {\n",
       "        vertical-align: middle;\n",
       "    }\n",
       "\n",
       "    .dataframe tbody tr th {\n",
       "        vertical-align: top;\n",
       "    }\n",
       "\n",
       "    .dataframe thead th {\n",
       "        text-align: right;\n",
       "    }\n",
       "</style>\n",
       "<table border=\"1\" class=\"dataframe\">\n",
       "  <thead>\n",
       "    <tr style=\"text-align: right;\">\n",
       "      <th></th>\n",
       "      <th>month</th>\n",
       "      <th>city_id</th>\n",
       "      <th>new_passengers</th>\n",
       "      <th>repeat_passengers</th>\n",
       "      <th>total_passengers</th>\n",
       "    </tr>\n",
       "  </thead>\n",
       "  <tbody>\n",
       "    <tr>\n",
       "      <th>0</th>\n",
       "      <td>2024-01-01</td>\n",
       "      <td>AP01</td>\n",
       "      <td>2513</td>\n",
       "      <td>650</td>\n",
       "      <td>3163</td>\n",
       "    </tr>\n",
       "    <tr>\n",
       "      <th>1</th>\n",
       "      <td>2024-01-01</td>\n",
       "      <td>CH01</td>\n",
       "      <td>3920</td>\n",
       "      <td>720</td>\n",
       "      <td>4640</td>\n",
       "    </tr>\n",
       "    <tr>\n",
       "      <th>2</th>\n",
       "      <td>2024-01-01</td>\n",
       "      <td>GJ01</td>\n",
       "      <td>2432</td>\n",
       "      <td>1184</td>\n",
       "      <td>3616</td>\n",
       "    </tr>\n",
       "    <tr>\n",
       "      <th>3</th>\n",
       "      <td>2024-01-01</td>\n",
       "      <td>GJ02</td>\n",
       "      <td>2089</td>\n",
       "      <td>544</td>\n",
       "      <td>2633</td>\n",
       "    </tr>\n",
       "    <tr>\n",
       "      <th>4</th>\n",
       "      <td>2024-01-01</td>\n",
       "      <td>KA01</td>\n",
       "      <td>1957</td>\n",
       "      <td>172</td>\n",
       "      <td>2129</td>\n",
       "    </tr>\n",
       "  </tbody>\n",
       "</table>\n",
       "</div>"
      ],
      "text/plain": [
       "       month city_id  new_passengers  repeat_passengers  total_passengers\n",
       "0 2024-01-01    AP01            2513                650              3163\n",
       "1 2024-01-01    CH01            3920                720              4640\n",
       "2 2024-01-01    GJ01            2432               1184              3616\n",
       "3 2024-01-01    GJ02            2089                544              2633\n",
       "4 2024-01-01    KA01            1957                172              2129"
      ]
     },
     "execution_count": 72,
     "metadata": {},
     "output_type": "execute_result"
    }
   ],
   "source": [
    "df5.head()"
   ]
  },
  {
   "cell_type": "code",
   "execution_count": 74,
   "id": "a769f80a-16f4-4bea-bd67-30b95864eed4",
   "metadata": {},
   "outputs": [],
   "source": [
    "df6 = pd.read_excel(r\"C:\\Users\\Nikhil Mishra\\OneDrive\\Desktop\\Data Source\\fact_trips.xlsx\")"
   ]
  },
  {
   "cell_type": "code",
   "execution_count": 75,
   "id": "7277fff3-436b-4544-9f94-30339c73d132",
   "metadata": {},
   "outputs": [
    {
     "data": {
      "text/html": [
       "<div>\n",
       "<style scoped>\n",
       "    .dataframe tbody tr th:only-of-type {\n",
       "        vertical-align: middle;\n",
       "    }\n",
       "\n",
       "    .dataframe tbody tr th {\n",
       "        vertical-align: top;\n",
       "    }\n",
       "\n",
       "    .dataframe thead th {\n",
       "        text-align: right;\n",
       "    }\n",
       "</style>\n",
       "<table border=\"1\" class=\"dataframe\">\n",
       "  <thead>\n",
       "    <tr style=\"text-align: right;\">\n",
       "      <th></th>\n",
       "      <th>trip_id</th>\n",
       "      <th>date</th>\n",
       "      <th>city_id</th>\n",
       "      <th>passenger_type</th>\n",
       "      <th>distance_travelled(km)</th>\n",
       "      <th>fare_amount</th>\n",
       "      <th>passenger_rating</th>\n",
       "      <th>driver_rating</th>\n",
       "    </tr>\n",
       "  </thead>\n",
       "  <tbody>\n",
       "    <tr>\n",
       "      <th>0</th>\n",
       "      <td>TRPLUC240113d55de2fb</td>\n",
       "      <td>2024-01-13</td>\n",
       "      <td>UP01</td>\n",
       "      <td>repeated</td>\n",
       "      <td>11</td>\n",
       "      <td>158</td>\n",
       "      <td>5</td>\n",
       "      <td>5</td>\n",
       "    </tr>\n",
       "    <tr>\n",
       "      <th>1</th>\n",
       "      <td>TRPVAD240129a3b6dba8</td>\n",
       "      <td>2024-01-29</td>\n",
       "      <td>GJ02</td>\n",
       "      <td>repeated</td>\n",
       "      <td>7</td>\n",
       "      <td>74</td>\n",
       "      <td>5</td>\n",
       "      <td>5</td>\n",
       "    </tr>\n",
       "    <tr>\n",
       "      <th>2</th>\n",
       "      <td>TRPCOI240107a42430fb</td>\n",
       "      <td>2024-01-07</td>\n",
       "      <td>TN01</td>\n",
       "      <td>repeated</td>\n",
       "      <td>11</td>\n",
       "      <td>155</td>\n",
       "      <td>8</td>\n",
       "      <td>8</td>\n",
       "    </tr>\n",
       "    <tr>\n",
       "      <th>3</th>\n",
       "      <td>TRPKOC240325d7601389</td>\n",
       "      <td>2024-03-25</td>\n",
       "      <td>KL01</td>\n",
       "      <td>repeated</td>\n",
       "      <td>36</td>\n",
       "      <td>427</td>\n",
       "      <td>9</td>\n",
       "      <td>10</td>\n",
       "    </tr>\n",
       "    <tr>\n",
       "      <th>4</th>\n",
       "      <td>TRPVIS2406027be97166</td>\n",
       "      <td>2024-06-02</td>\n",
       "      <td>AP01</td>\n",
       "      <td>new</td>\n",
       "      <td>17</td>\n",
       "      <td>265</td>\n",
       "      <td>8</td>\n",
       "      <td>8</td>\n",
       "    </tr>\n",
       "  </tbody>\n",
       "</table>\n",
       "</div>"
      ],
      "text/plain": [
       "                trip_id       date city_id passenger_type  \\\n",
       "0  TRPLUC240113d55de2fb 2024-01-13    UP01       repeated   \n",
       "1  TRPVAD240129a3b6dba8 2024-01-29    GJ02       repeated   \n",
       "2  TRPCOI240107a42430fb 2024-01-07    TN01       repeated   \n",
       "3  TRPKOC240325d7601389 2024-03-25    KL01       repeated   \n",
       "4  TRPVIS2406027be97166 2024-06-02    AP01            new   \n",
       "\n",
       "   distance_travelled(km)  fare_amount  passenger_rating  driver_rating  \n",
       "0                      11          158                 5              5  \n",
       "1                       7           74                 5              5  \n",
       "2                      11          155                 8              8  \n",
       "3                      36          427                 9             10  \n",
       "4                      17          265                 8              8  "
      ]
     },
     "execution_count": 75,
     "metadata": {},
     "output_type": "execute_result"
    }
   ],
   "source": [
    "df6.head()"
   ]
  },
  {
   "cell_type": "code",
   "execution_count": 76,
   "id": "4a6f6264-c1b3-47dd-a5e6-023498f304d2",
   "metadata": {},
   "outputs": [],
   "source": [
    "df7 = pd.read_excel(r\"C:\\Users\\Nikhil Mishra\\OneDrive\\Desktop\\Data Source\\monthly_target_new_passengers.xlsx\")"
   ]
  },
  {
   "cell_type": "code",
   "execution_count": 77,
   "id": "d4ab1d0e-0bb9-4c73-b006-f34a8fd1e566",
   "metadata": {},
   "outputs": [
    {
     "data": {
      "text/html": [
       "<div>\n",
       "<style scoped>\n",
       "    .dataframe tbody tr th:only-of-type {\n",
       "        vertical-align: middle;\n",
       "    }\n",
       "\n",
       "    .dataframe tbody tr th {\n",
       "        vertical-align: top;\n",
       "    }\n",
       "\n",
       "    .dataframe thead th {\n",
       "        text-align: right;\n",
       "    }\n",
       "</style>\n",
       "<table border=\"1\" class=\"dataframe\">\n",
       "  <thead>\n",
       "    <tr style=\"text-align: right;\">\n",
       "      <th></th>\n",
       "      <th>month</th>\n",
       "      <th>city_id</th>\n",
       "      <th>target_new_passengers</th>\n",
       "    </tr>\n",
       "  </thead>\n",
       "  <tbody>\n",
       "    <tr>\n",
       "      <th>0</th>\n",
       "      <td>2024-05-01</td>\n",
       "      <td>GJ01</td>\n",
       "      <td>1500</td>\n",
       "    </tr>\n",
       "    <tr>\n",
       "      <th>1</th>\n",
       "      <td>2024-05-01</td>\n",
       "      <td>GJ02</td>\n",
       "      <td>1500</td>\n",
       "    </tr>\n",
       "    <tr>\n",
       "      <th>2</th>\n",
       "      <td>2024-03-01</td>\n",
       "      <td>GJ01</td>\n",
       "      <td>2000</td>\n",
       "    </tr>\n",
       "    <tr>\n",
       "      <th>3</th>\n",
       "      <td>2024-05-01</td>\n",
       "      <td>UP01</td>\n",
       "      <td>2000</td>\n",
       "    </tr>\n",
       "    <tr>\n",
       "      <th>4</th>\n",
       "      <td>2024-05-01</td>\n",
       "      <td>MP01</td>\n",
       "      <td>2000</td>\n",
       "    </tr>\n",
       "  </tbody>\n",
       "</table>\n",
       "</div>"
      ],
      "text/plain": [
       "       month city_id  target_new_passengers\n",
       "0 2024-05-01    GJ01                   1500\n",
       "1 2024-05-01    GJ02                   1500\n",
       "2 2024-03-01    GJ01                   2000\n",
       "3 2024-05-01    UP01                   2000\n",
       "4 2024-05-01    MP01                   2000"
      ]
     },
     "execution_count": 77,
     "metadata": {},
     "output_type": "execute_result"
    }
   ],
   "source": [
    "df7.head()"
   ]
  },
  {
   "cell_type": "code",
   "execution_count": 78,
   "id": "961ec51d-27df-49b8-8df1-bd9668933ee4",
   "metadata": {},
   "outputs": [],
   "source": [
    "df8 = pd.read_excel(r\"C:\\Users\\Nikhil Mishra\\OneDrive\\Desktop\\Data Source\\monthly_target_trips.xlsx\")"
   ]
  },
  {
   "cell_type": "code",
   "execution_count": 79,
   "id": "99695ce0-9359-4a9f-8f6c-6d064bf5d4e8",
   "metadata": {},
   "outputs": [
    {
     "data": {
      "text/html": [
       "<div>\n",
       "<style scoped>\n",
       "    .dataframe tbody tr th:only-of-type {\n",
       "        vertical-align: middle;\n",
       "    }\n",
       "\n",
       "    .dataframe tbody tr th {\n",
       "        vertical-align: top;\n",
       "    }\n",
       "\n",
       "    .dataframe thead th {\n",
       "        text-align: right;\n",
       "    }\n",
       "</style>\n",
       "<table border=\"1\" class=\"dataframe\">\n",
       "  <thead>\n",
       "    <tr style=\"text-align: right;\">\n",
       "      <th></th>\n",
       "      <th>month</th>\n",
       "      <th>city_id</th>\n",
       "      <th>total_target_trips</th>\n",
       "    </tr>\n",
       "  </thead>\n",
       "  <tbody>\n",
       "    <tr>\n",
       "      <th>0</th>\n",
       "      <td>2024-03-01</td>\n",
       "      <td>MP01</td>\n",
       "      <td>7000</td>\n",
       "    </tr>\n",
       "    <tr>\n",
       "      <th>1</th>\n",
       "      <td>2024-05-01</td>\n",
       "      <td>KA01</td>\n",
       "      <td>2500</td>\n",
       "    </tr>\n",
       "    <tr>\n",
       "      <th>2</th>\n",
       "      <td>2024-04-01</td>\n",
       "      <td>UP01</td>\n",
       "      <td>11000</td>\n",
       "    </tr>\n",
       "    <tr>\n",
       "      <th>3</th>\n",
       "      <td>2024-02-01</td>\n",
       "      <td>GJ02</td>\n",
       "      <td>6000</td>\n",
       "    </tr>\n",
       "    <tr>\n",
       "      <th>4</th>\n",
       "      <td>2024-05-01</td>\n",
       "      <td>KL01</td>\n",
       "      <td>9000</td>\n",
       "    </tr>\n",
       "  </tbody>\n",
       "</table>\n",
       "</div>"
      ],
      "text/plain": [
       "       month city_id  total_target_trips\n",
       "0 2024-03-01    MP01                7000\n",
       "1 2024-05-01    KA01                2500\n",
       "2 2024-04-01    UP01               11000\n",
       "3 2024-02-01    GJ02                6000\n",
       "4 2024-05-01    KL01                9000"
      ]
     },
     "execution_count": 79,
     "metadata": {},
     "output_type": "execute_result"
    }
   ],
   "source": [
    "df8.head()"
   ]
  },
  {
   "cell_type": "code",
   "execution_count": 80,
   "id": "b55485d5-ce04-41f6-a0cb-8435ea3185ef",
   "metadata": {},
   "outputs": [
    {
     "name": "stdout",
     "output_type": "stream",
     "text": [
      "Total trip count: 3240\n"
     ]
    }
   ],
   "source": [
    "df= pd.DataFrame(df4)\n",
    "\n",
    "# calculating the total trip count\n",
    "total_trip_count = df['trip_count'].sum()\n",
    "print(f\"Total trip count: {total_trip_count}\")"
   ]
  },
  {
   "cell_type": "code",
   "execution_count": 81,
   "id": "d45f1019-3e84-498e-ab2b-f19a379f2d72",
   "metadata": {},
   "outputs": [
    {
     "name": "stdout",
     "output_type": "stream",
     "text": [
      "df6\n",
      "                     trip_id       date city_id passenger_type  \\\n",
      "0       TRPLUC240113d55de2fb 2024-01-13    UP01       repeated   \n",
      "1       TRPVAD240129a3b6dba8 2024-01-29    GJ02       repeated   \n",
      "2       TRPCOI240107a42430fb 2024-01-07    TN01       repeated   \n",
      "3       TRPKOC240325d7601389 2024-03-25    KL01       repeated   \n",
      "4       TRPVIS2406027be97166 2024-06-02    AP01            new   \n",
      "...                      ...        ...     ...            ...   \n",
      "425898  TRPLUC2403180b02b4d0 2024-03-18    UP01       repeated   \n",
      "425899  TRPVAD2401032679e669 2024-01-03    GJ02       repeated   \n",
      "425900  TRPJAI24022578e10280 2024-02-25    RJ01       repeated   \n",
      "425901  TRPJAI240401e297ad20 2024-04-01    RJ01       repeated   \n",
      "425902  TRPJAI24021056f0e951 2024-02-10    RJ01            new   \n",
      "\n",
      "        distance_travelled(km)  fare_amount  passenger_rating  driver_rating  \n",
      "0                           11          158                 5              5  \n",
      "1                            7           74                 5              5  \n",
      "2                           11          155                 8              8  \n",
      "3                           36          427                 9             10  \n",
      "4                           17          265                 8              8  \n",
      "...                        ...          ...               ...            ...  \n",
      "425898                      12          134                 5              5  \n",
      "425899                      12          114                 7              5  \n",
      "425900                      26          479                 7             10  \n",
      "425901                      27          361                 7             10  \n",
      "425902                      37          666                 9             10  \n",
      "\n",
      "[425903 rows x 8 columns]\n",
      "\n",
      "Average Distance Travelled: 8146320 km\n"
     ]
    }
   ],
   "source": [
    "df = pd.DataFrame(df6)\n",
    "\n",
    "# Display the dataframe\n",
    "print(\"df6\")\n",
    "print(df)\n",
    "\n",
    "# Calculate and display total distance travelled\n",
    "total_distance = df['distance_travelled(km)'].sum()\n",
    "print(\"\\nAverage Distance Travelled:\", total_distance, \"km\")"
   ]
  },
  {
   "cell_type": "code",
   "execution_count": 82,
   "id": "902df548-bfa3-40f1-820c-21eb0861abae",
   "metadata": {},
   "outputs": [
    {
     "name": "stdout",
     "output_type": "stream",
     "text": [
      "The average passenger rating is: 7.97\n"
     ]
    }
   ],
   "source": [
    "df = pd.DataFrame(df1)\n",
    "\n",
    "# calculate the  average rating\n",
    "\n",
    "average_rating = df['target_avg_passenger_rating'].mean()\n",
    "\n",
    "print(f\"The average passenger rating is: {average_rating:.2f}\")"
   ]
  },
  {
   "cell_type": "code",
   "execution_count": 83,
   "id": "b5604778-e9df-4d2d-be55-28c8e3ff4b9d",
   "metadata": {},
   "outputs": [
    {
     "name": "stdout",
     "output_type": "stream",
     "text": [
      "The average driver rating is: 7.83\n"
     ]
    }
   ],
   "source": [
    "df = pd.DataFrame(df6)\n",
    "\n",
    "# calculate the driver average rating\n",
    "\n",
    "average_rating = df['driver_rating'].mean()\n",
    "\n",
    "print(f\"The average driver rating is: {average_rating:.2f}\")"
   ]
  },
  {
   "cell_type": "code",
   "execution_count": 157,
   "id": "d685547f-5b4d-411a-a1c2-2da45c263ec8",
   "metadata": {},
   "outputs": [
    {
     "name": "stdout",
     "output_type": "stream",
     "text": [
      "Total New Passengers : 185100\n"
     ]
    }
   ],
   "source": [
    "# calculate new passengers\n",
    "\n",
    "df = pd.DataFrame(df7)\n",
    "\n",
    "new_passengers = df['target_new_passengers'].sum()\n",
    "print(f\"Total New Passengers : {new_passengers}\")"
   ]
  },
  {
   "cell_type": "code",
   "execution_count": 158,
   "id": "8d40afcf-37a6-4009-84bf-2312477585a4",
   "metadata": {},
   "outputs": [
    {
     "name": "stdout",
     "output_type": "stream",
     "text": [
      "Total Passengers : 238309\n"
     ]
    }
   ],
   "source": [
    "# calculate new passengers\n",
    "\n",
    "df = pd.DataFrame(df5)\n",
    "\n",
    "total_passengers = df['total_passengers'].sum()\n",
    "print(f\"Total Passengers : {total_passengers}\")"
   ]
  },
  {
   "cell_type": "code",
   "execution_count": 159,
   "id": "31156bc7-f435-469e-8403-62197e6ddfd9",
   "metadata": {},
   "outputs": [
    {
     "name": "stdout",
     "output_type": "stream",
     "text": [
      "The total number of repeat passengers is: 61311\n"
     ]
    }
   ],
   "source": [
    "df = pd.DataFrame(df5)\n",
    "\n",
    "total_repeat_passengers = df['repeat_passengers'].sum()\n",
    "print(f\"The total number of repeat passengers is: {total_repeat_passengers}\")"
   ]
  },
  {
   "cell_type": "code",
   "execution_count": 160,
   "id": "a6211fd1-beb4-4cf0-b731-b9833ffa5971",
   "metadata": {},
   "outputs": [
    {
     "name": "stdout",
     "output_type": "stream",
     "text": [
      "Total revenue is: 108188091\n"
     ]
    }
   ],
   "source": [
    "# Total revenue\n",
    "\n",
    "df = pd.DataFrame(df6)\n",
    "\n",
    "\n",
    "total_revenue = df['fare_amount'].sum()\n",
    "print(f\"Total revenue is: {total_revenue}\")\n",
    "\n"
   ]
  },
  {
   "cell_type": "code",
   "execution_count": 161,
   "id": "074929f7-3fe9-49c8-9631-11296b8d18b3",
   "metadata": {},
   "outputs": [
    {
     "name": "stdout",
     "output_type": "stream",
     "text": [
      "The maximum distance traveled is: 45 km\n",
      "The maximum distance traveled is: 5 km\n"
     ]
    }
   ],
   "source": [
    "df = pd.DataFrame(df6)\n",
    "\n",
    "# Find the maximum and minimum distances travelled\n",
    "max_distance = df['distance_travelled(km)'].max()\n",
    "min_distance = df['distance_travelled(km)'].min()\n",
    "\n",
    "print(f\"The maximum distance traveled is: {max_distance} km\")\n",
    "print(f\"The maximum distance traveled is: {min_distance} km\")"
   ]
  },
  {
   "cell_type": "code",
   "execution_count": 162,
   "id": "848d4599-29db-423b-95da-bceeb3123dd9",
   "metadata": {},
   "outputs": [
    {
     "name": "stdout",
     "output_type": "stream",
     "text": [
      "Number of new passenger trips: 176998\n",
      "Number of repeated passenger trips: 248905\n"
     ]
    }
   ],
   "source": [
    "# Trip Type\n",
    "\n",
    "df = pd.DataFrame(df6)\n",
    "\n",
    "new_passenger_trips = df[df['passenger_type'] == 'new'].shape[0] \n",
    "repeated_passenger_trips = df[df['passenger_type'] == 'repeated'].shape[0]\n",
    "\n",
    "print(f\"Number of new passenger trips: {new_passenger_trips}\") \n",
    "print(f\"Number of repeated passenger trips: {repeated_passenger_trips}\")"
   ]
  },
  {
   "cell_type": "code",
   "execution_count": 163,
   "id": "6d110fc9-8e97-4287-841e-0f3674c2e774",
   "metadata": {},
   "outputs": [
    {
     "name": "stdout",
     "output_type": "stream",
     "text": [
      "   city_id  new_vs_repeat_ratio\n",
      "0     AP01             3.866154\n",
      "1     CH01             5.444444\n",
      "2     GJ01             2.054054\n",
      "3     GJ02             3.840074\n",
      "4     KA01            11.377907\n",
      "5     KL01             6.119497\n",
      "6     MP01             2.752178\n",
      "7     RJ01             7.329817\n",
      "8     TN01             4.647959\n",
      "9     UP01             2.421384\n",
      "10    AP01             3.012658\n",
      "11    CH01             4.811254\n",
      "12    GJ01             1.716679\n",
      "13    GJ02             3.518033\n",
      "14    KA01            11.513661\n",
      "15    KL01             4.345274\n",
      "16    MP01             2.609248\n",
      "17    RJ01             6.495485\n",
      "18    TN01             4.760116\n",
      "19    UP01             2.127185\n",
      "20    AP01             2.351029\n",
      "21    CH01             3.701835\n",
      "22    GJ01             1.302544\n",
      "23    GJ02             2.322793\n",
      "24    KA01             9.548077\n",
      "25    KL01             3.609050\n",
      "26    MP01             2.513291\n",
      "27    RJ01             4.030978\n",
      "28    TN01             3.601874\n",
      "29    UP01             1.947596\n",
      "30    AP01             1.859879\n",
      "31    CH01             3.163498\n",
      "32    GJ01             1.188266\n",
      "33    GJ02             1.899072\n",
      "34    KA01             7.779661\n",
      "35    KL01             3.133883\n",
      "36    MP01             1.815444\n",
      "37    RJ01             3.525346\n",
      "38    TN01             2.587500\n",
      "39    UP01             1.544786\n",
      "40    AP01             2.038906\n",
      "41    CH01             2.817337\n",
      "42    GJ01             1.003113\n",
      "43    GJ02             1.599078\n",
      "44    KA01             5.504298\n",
      "45    KL01             2.357798\n",
      "46    MP01             1.297505\n",
      "47    RJ01             2.894680\n",
      "48    TN01             2.061508\n",
      "49    UP01             1.098075\n",
      "50    AP01             2.369077\n",
      "51    CH01             2.802768\n",
      "52    GJ01             1.033557\n",
      "53    GJ02             1.570413\n",
      "54    KA01             5.696049\n",
      "55    KL01             2.870353\n",
      "56    MP01             1.786914\n",
      "57    RJ01             4.889924\n",
      "58    TN01             3.049751\n",
      "59    UP01             1.141285\n"
     ]
    }
   ],
   "source": [
    "df = pd.DataFrame(df5)\n",
    "\n",
    "# calculate ratio to news vs repeated passengers trips ratio\n",
    "\n",
    "df['new_vs_repeat_ratio'] = df['new_passengers'] / df['repeat_passengers']\n",
    "\n",
    "print(df[['city_id', 'new_vs_repeat_ratio']])\n"
   ]
  },
  {
   "cell_type": "code",
   "execution_count": 164,
   "id": "001dd27a-3186-429d-9b2d-5184bdab9ca4",
   "metadata": {},
   "outputs": [
    {
     "name": "stdout",
     "output_type": "stream",
     "text": [
      "   city_id  repeated_passenger_rate\n",
      "0     AP01                20.550111\n",
      "1     CH01                15.517241\n",
      "2     GJ01                32.743363\n",
      "3     GJ02                20.660843\n",
      "4     KA01                 8.078910\n",
      "5     KL01                14.045936\n",
      "6     MP01                26.651187\n",
      "7     RJ01                12.005065\n",
      "8     TN01                17.705510\n",
      "9     UP01                29.227941\n",
      "10    AP01                24.921136\n",
      "11    CH01                17.207989\n",
      "12    GJ01                36.809644\n",
      "13    GJ02                22.133527\n",
      "14    KA01                 7.991266\n",
      "15    KL01                18.708116\n",
      "16    MP01                27.706606\n",
      "17    RJ01                13.341365\n",
      "18    TN01                17.360763\n",
      "19    UP01                31.977641\n",
      "20    AP01                29.841578\n",
      "21    CH01                21.268293\n",
      "22    GJ01                43.430233\n",
      "23    GJ02                30.095163\n",
      "24    KA01                 9.480401\n",
      "25    KL01                21.696443\n",
      "26    MP01                28.463345\n",
      "27    RJ01                19.876850\n",
      "28    TN01                21.730280\n",
      "29    UP01                33.925957\n",
      "30    AP01                34.966514\n",
      "31    CH01                24.018265\n",
      "32    GJ01                45.698291\n",
      "33    GJ02                34.493798\n",
      "34    KA01                11.389961\n",
      "35    KL01                24.190330\n",
      "36    MP01                35.518376\n",
      "37    RJ01                22.097760\n",
      "38    TN01                27.874564\n",
      "39    UP01                39.296034\n",
      "40    AP01                32.906574\n",
      "41    CH01                26.196269\n",
      "42    GJ01                49.922288\n",
      "43    GJ02                38.475177\n",
      "44    KA01                15.374449\n",
      "45    KL01                29.781421\n",
      "46    MP01                43.525480\n",
      "47    RJ01                25.676052\n",
      "48    TN01                32.663642\n",
      "49    UP01                47.662747\n",
      "50    AP01                29.681717\n",
      "51    CH01                26.296633\n",
      "52    GJ01                49.174917\n",
      "53    GJ02                38.904261\n",
      "54    KA01                14.934181\n",
      "55    KL01                25.837438\n",
      "56    MP01                35.881980\n",
      "57    RJ01                16.978148\n",
      "58    TN01                24.692875\n",
      "59    UP01                46.700919\n"
     ]
    }
   ],
   "source": [
    "df = pd.DataFrame(df5)\n",
    "\n",
    "# repeated passenger rate\n",
    "\n",
    "df['repeated_passenger_rate'] = (df['repeat_passengers'] / df['total_passengers']) * 100\n",
    "\n",
    "print(df[['city_id', 'repeated_passenger_rate']])"
   ]
  },
  {
   "cell_type": "code",
   "execution_count": 165,
   "id": "eb526764-00eb-4639-9c4a-6a6f6a175c40",
   "metadata": {},
   "outputs": [
    {
     "name": "stdout",
     "output_type": "stream",
     "text": [
      "The average fare per kilometer is: 12.86 INR/km\n"
     ]
    }
   ],
   "source": [
    "df = pd.DataFrame(df6)\n",
    "\n",
    "# calculate the average fare per kilometer\n",
    "df['fare_per_km'] = df['fare_amount'] / df['distance_travelled(km)']\n",
    "average_fare_per_km = df['fare_per_km'].mean()\n",
    "\n",
    "print(f\"The average fare per kilometer is: {average_fare_per_km:.2f} INR/km\")"
   ]
  },
  {
   "cell_type": "code",
   "execution_count": 167,
   "id": "e750e46b-95fb-4277-92d2-17bc7e1c022e",
   "metadata": {},
   "outputs": [
    {
     "name": "stdout",
     "output_type": "stream",
     "text": [
      "The average fare per trip is: 254.02 INR\n"
     ]
    }
   ],
   "source": [
    "df = pd.DataFrame(df6)\n",
    "\n",
    "# Calculate the average fare per trip\n",
    "average_fare_per_trip = df['fare_amount'].mean()\n",
    "\n",
    "print(f\"The average fare per trip is: {average_fare_per_trip:.2f} INR\")"
   ]
  },
  {
   "cell_type": "code",
   "execution_count": null,
   "id": "d72cdeea-e2aa-4e98-9e77-49d2453c194d",
   "metadata": {},
   "outputs": [],
   "source": []
  },
  {
   "cell_type": "code",
   "execution_count": null,
   "id": "f772fb2c-b80a-488e-82bb-dc522f9a189e",
   "metadata": {},
   "outputs": [],
   "source": []
  },
  {
   "cell_type": "code",
   "execution_count": null,
   "id": "dc21ee69-11c8-4689-8d12-f88556b05058",
   "metadata": {},
   "outputs": [],
   "source": []
  },
  {
   "cell_type": "code",
   "execution_count": null,
   "id": "81c80d0e-7dbd-4717-86db-8ce20ec437e1",
   "metadata": {},
   "outputs": [],
   "source": []
  },
  {
   "cell_type": "code",
   "execution_count": null,
   "id": "57d8cc7d-923f-4958-b842-e5c6447db757",
   "metadata": {},
   "outputs": [],
   "source": []
  },
  {
   "cell_type": "code",
   "execution_count": null,
   "id": "5c92038c-3c75-4bc7-93ed-910796fb9a18",
   "metadata": {},
   "outputs": [],
   "source": []
  },
  {
   "cell_type": "code",
   "execution_count": null,
   "id": "9f502817-e9ad-4464-a3ca-41ce32470090",
   "metadata": {},
   "outputs": [],
   "source": []
  },
  {
   "cell_type": "code",
   "execution_count": null,
   "id": "9cd1a8f2-42a1-4d11-af92-d65d06d921bf",
   "metadata": {},
   "outputs": [],
   "source": []
  },
  {
   "cell_type": "code",
   "execution_count": null,
   "id": "d38d3de6-ebbf-489e-b1d5-fb39d53571f5",
   "metadata": {},
   "outputs": [],
   "source": []
  },
  {
   "cell_type": "code",
   "execution_count": null,
   "id": "0dd79379-edfc-43d7-8a3c-66ffd6fa0add",
   "metadata": {},
   "outputs": [],
   "source": []
  },
  {
   "cell_type": "code",
   "execution_count": null,
   "id": "c34175fd-8a1b-4b5b-8227-9b9833a7a9ed",
   "metadata": {},
   "outputs": [],
   "source": []
  },
  {
   "cell_type": "code",
   "execution_count": null,
   "id": "069ffe01-5540-4c9f-9022-31b600ba1837",
   "metadata": {},
   "outputs": [],
   "source": []
  },
  {
   "cell_type": "code",
   "execution_count": null,
   "id": "3e072a18-4de5-48e0-b8ff-38971a334cb4",
   "metadata": {},
   "outputs": [],
   "source": []
  },
  {
   "cell_type": "code",
   "execution_count": null,
   "id": "987f92cc-a696-4e0f-b2e2-ced49b3be22d",
   "metadata": {},
   "outputs": [],
   "source": []
  },
  {
   "cell_type": "code",
   "execution_count": null,
   "id": "f178eb1e-3844-41d4-9811-0102f16d0b75",
   "metadata": {},
   "outputs": [],
   "source": []
  },
  {
   "cell_type": "code",
   "execution_count": null,
   "id": "5086b8ac-7318-48f4-a43d-82c198f960ba",
   "metadata": {},
   "outputs": [],
   "source": []
  },
  {
   "cell_type": "code",
   "execution_count": null,
   "id": "8600be5c-0aea-4e54-97bb-8b116a8f257a",
   "metadata": {},
   "outputs": [],
   "source": []
  },
  {
   "cell_type": "code",
   "execution_count": null,
   "id": "b1495402-ab26-4eb8-9d3d-84588f859971",
   "metadata": {},
   "outputs": [],
   "source": []
  },
  {
   "cell_type": "code",
   "execution_count": null,
   "id": "fe916734-da25-49e6-b20a-f05be697a5f3",
   "metadata": {},
   "outputs": [],
   "source": []
  }
 ],
 "metadata": {
  "kernelspec": {
   "display_name": "Python [conda env:base] *",
   "language": "python",
   "name": "conda-base-py"
  },
  "language_info": {
   "codemirror_mode": {
    "name": "ipython",
    "version": 3
   },
   "file_extension": ".py",
   "mimetype": "text/x-python",
   "name": "python",
   "nbconvert_exporter": "python",
   "pygments_lexer": "ipython3",
   "version": "3.12.7"
  }
 },
 "nbformat": 4,
 "nbformat_minor": 5
}
